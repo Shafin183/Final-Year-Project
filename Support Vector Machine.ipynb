import pandas as pd
from sklearn.model_selection import train_test_split
from sklearn.svm import SVC
from sklearn.metrics import accuracy_score, precision_score


# Load the dataset
file_path = 'Final_dataset.csv'
dataset = pd.read_csv(file_path)

# Define features and target
X = dataset.drop('Class', axis=1)  # Features
y = dataset['Class']  # Target

# Split the dataset into 70% training and 30% testing
X_train, X_test, y_train, y_test = train_test_split(X, y, test_size=0.3, random_state=42)



# Initialize the SVM classifier
svm = SVC(random_state=42)

# Train the classifier
svm.fit(X_train, y_train)

# Predict on the test set
y_pred = svm.predict(X_test)

# Calculate accuracy and precision
accuracy = accuracy_score(y_test, y_pred)
precision = precision_score(y_test, y_pred)

# Print the results
print(f'Accuracy: {accuracy}')
print(f'Precision: {precision}')
